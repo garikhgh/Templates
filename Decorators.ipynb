{
 "cells": [
  {
   "cell_type": "code",
   "execution_count": 36,
   "metadata": {},
   "outputs": [],
   "source": [
    "# @smart_func\n",
    "def div(a, b):\n",
    "    return a / b\n",
    "    \n",
    "    \n",
    "    \n",
    "def smart_func(func):\n",
    "    def my_div(a,b):\n",
    "        if b == 0:\n",
    "            print('Division can not be implemented')\n",
    "            return\n",
    "        \n",
    "        func(a,b)\n",
    "    return my_div    "
   ]
  },
  {
   "cell_type": "code",
   "execution_count": 16,
   "metadata": {},
   "outputs": [
    {
     "name": "stdout",
     "output_type": "stream",
     "text": [
      "Division can not be implemented\n"
     ]
    },
    {
     "data": {
      "text/plain": [
       "<function __main__.smart_func.<locals>.my_div(a, b)>"
      ]
     },
     "execution_count": 16,
     "metadata": {},
     "output_type": "execute_result"
    }
   ],
   "source": [
    "smart_func(div(5,0))"
   ]
  },
  {
   "cell_type": "code",
   "execution_count": 18,
   "metadata": {},
   "outputs": [],
   "source": [
    "from functools import wraps"
   ]
  },
  {
   "cell_type": "code",
   "execution_count": 19,
   "metadata": {},
   "outputs": [
    {
     "name": "stdout",
     "output_type": "stream",
     "text": [
      "Help on function wraps in module functools:\n",
      "\n",
      "wraps(wrapped, assigned=('__module__', '__name__', '__qualname__', '__doc__', '__annotations__'), updated=('__dict__',))\n",
      "    Decorator factory to apply update_wrapper() to a wrapper function\n",
      "    \n",
      "    Returns a decorator that invokes update_wrapper() with the decorated\n",
      "    function as the wrapper argument and the arguments to wraps() as the\n",
      "    remaining arguments. Default arguments are as for update_wrapper().\n",
      "    This is a convenience function to simplify applying partial() to\n",
      "    update_wrapper().\n",
      "\n"
     ]
    }
   ],
   "source": [
    "help(wraps)"
   ]
  },
  {
   "cell_type": "code",
   "execution_count": 60,
   "metadata": {},
   "outputs": [],
   "source": [
    "#decorator which changes the math operation within the function\n",
    "from functools import wraps\n",
    "def my_decorator(func):\n",
    "    \n",
    "    def inner_decorator(*args, **kwargs):\n",
    "        \n",
    "        rez = 1\n",
    "        if len(args)%2 == 0:\n",
    "            rez =  func(*args, **kwargs)\n",
    "        else:\n",
    "            rez = 0\n",
    "            for i in args:\n",
    "                rez = rez + i\n",
    "        return rez\n",
    "    \n",
    "    return  inner_decorator          "
   ]
  },
  {
   "cell_type": "code",
   "execution_count": 61,
   "metadata": {},
   "outputs": [],
   "source": [
    "@my_decorator\n",
    "def multiplayer(*args, **kwargs):\n",
    "   \n",
    "    result = 1\n",
    "    for i in args:\n",
    "        result =result * i\n",
    "       \n",
    "    return result    \n",
    "    "
   ]
  },
  {
   "cell_type": "code",
   "execution_count": 68,
   "metadata": {},
   "outputs": [
    {
     "data": {
      "text/plain": [
       "24"
      ]
     },
     "execution_count": 68,
     "metadata": {},
     "output_type": "execute_result"
    }
   ],
   "source": [
    "multiplayer(1,2,3,4)"
   ]
  },
  {
   "cell_type": "code",
   "execution_count": null,
   "metadata": {},
   "outputs": [],
   "source": []
  }
 ],
 "metadata": {
  "kernelspec": {
   "display_name": "Python 3",
   "language": "python",
   "name": "python3"
  },
  "language_info": {
   "codemirror_mode": {
    "name": "ipython",
    "version": 3
   },
   "file_extension": ".py",
   "mimetype": "text/x-python",
   "name": "python",
   "nbconvert_exporter": "python",
   "pygments_lexer": "ipython3",
   "version": "3.7.3"
  }
 },
 "nbformat": 4,
 "nbformat_minor": 2
}
